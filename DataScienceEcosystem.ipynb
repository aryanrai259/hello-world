{
 "cells": [
  {
   "cell_type": "markdown",
   "id": "247c83f2",
   "metadata": {},
   "source": [
    "# Data Science Tools and Ecosystem"
   ]
  },
  {
   "cell_type": "markdown",
   "id": "9c7f1c4f",
   "metadata": {},
   "source": [
    "In this notebook, data science and ecosystems are summarized"
   ]
  },
  {
   "cell_type": "markdown",
   "id": "945a81b0",
   "metadata": {},
   "source": [
    "**Objectives:**\n",
    "\n",
    "- Renamed Jupyter Notebook and added .ipynb extension\n",
    "- Created H1 Heading\n",
    "- Put a heading in Bold text using asterisk\n",
    "- Listed Popular Languages that Data Scientists use\n",
    "- Listed commonly used Libraries by Data Scientists\n",
    "- Simple Arithmetic expression was executed\n",
    "- 200 minutes was converted to hours by dividing with 60"
   ]
  },
  {
   "cell_type": "markdown",
   "id": "4fc6ec99",
   "metadata": {},
   "source": [
    "Some of the popular languages that Data Scientists use are:\n",
    "1. Python\n",
    "2. Julia\n",
    "3. SQL\n",
    "4. R\n",
    "5. C++"
   ]
  },
  {
   "cell_type": "markdown",
   "id": "c69decfc",
   "metadata": {},
   "source": [
    "Some of the commonly used libraries used by Data Scientists include:\n",
    "1. Seaborn\n",
    "2. Pytorch\n",
    "3. Beautiful Soup\n",
    "4. Tensor Flow\n",
    "5. Keras"
   ]
  },
  {
   "cell_type": "markdown",
   "id": "f6674933",
   "metadata": {},
   "source": [
    "| Data Science Tools |\n",
    "| :------------------- |\n",
    "| Jupyter Notebook    |\n",
    "| Jupyter Labs        |\n",
    "| RStudio             |\n",
    "| Apache Spark        |\n"
   ]
  },
  {
   "cell_type": "markdown",
   "id": "5f07d218",
   "metadata": {},
   "source": [
    "### Below are a few examples of evaluating arithmetic expressions in Python"
   ]
  },
  {
   "cell_type": "code",
   "execution_count": null,
   "id": "b799943d",
   "metadata": {},
   "outputs": [],
   "source": [
    "# This a simple arithmetic expression to mutiply then add integers"
   ]
  },
  {
   "cell_type": "code",
   "execution_count": 39,
   "id": "d9ad9e11",
   "metadata": {},
   "outputs": [
    {
     "data": {
      "text/plain": [
       "17"
      ]
     },
     "execution_count": 39,
     "metadata": {},
     "output_type": "execute_result"
    }
   ],
   "source": [
    "(3*4)+5"
   ]
  },
  {
   "cell_type": "code",
   "execution_count": 40,
   "id": "5a1b5350",
   "metadata": {},
   "outputs": [],
   "source": [
    "#This will convert 200 minutes to hours by diving by 60"
   ]
  },
  {
   "cell_type": "code",
   "execution_count": 42,
   "id": "17df0131",
   "metadata": {},
   "outputs": [
    {
     "name": "stdout",
     "output_type": "stream",
     "text": [
      "3.3333333333333335\n"
     ]
    }
   ],
   "source": [
    "mins=200\n",
    "hours=mins/60\n",
    "print(hours)"
   ]
  },
  {
   "cell_type": "markdown",
   "id": "cb98f31c",
   "metadata": {},
   "source": [
    "## Author\n",
    "Aryan Rai"
   ]
  }
 ],
 "metadata": {
  "kernelspec": {
   "display_name": "Python 3 (ipykernel)",
   "language": "python",
   "name": "python3"
  },
  "language_info": {
   "codemirror_mode": {
    "name": "ipython",
    "version": 3
   },
   "file_extension": ".py",
   "mimetype": "text/x-python",
   "name": "python",
   "nbconvert_exporter": "python",
   "pygments_lexer": "ipython3",
   "version": "3.11.5"
  }
 },
 "nbformat": 4,
 "nbformat_minor": 5
}
